{
 "cells": [
  {
   "cell_type": "markdown",
   "metadata": {
    "id": "q-v7aorJZ3fg"
   },
   "source": [
    "## Import Libraries"
   ]
  },
  {
   "cell_type": "code",
   "execution_count": 1,
   "metadata": {
    "id": "Vl_B9m57Zzjh"
   },
   "outputs": [],
   "source": [
    "import numpy as np\n",
    "import pandas as pd\n",
    "import matplotlib.pyplot as plt\n",
    "import seaborn as sns\n",
    "import torch\n",
    "import torch.nn as nn\n",
    "import torch.nn.functional as F\n",
    "from torch.utils.data import DataLoader\n",
    "from torchvision import datasets, transforms\n",
    "from torchvision.utils import make_grid\n",
    "from sklearn.metrics import classification_report, confusion_matrix\n",
    "\n",
    "import warnings\n",
    "warnings.filterwarnings('ignore')"
   ]
  },
  {
   "cell_type": "markdown",
   "metadata": {
    "id": "XRaZaLjfasz-"
   },
   "source": [
    "## Loading Dataset"
   ]
  },
  {
   "cell_type": "code",
   "execution_count": 2,
   "metadata": {
    "id": "sH9htOceaeGY"
   },
   "outputs": [],
   "source": [
    "transform = transforms.ToTensor()"
   ]
  },
  {
   "cell_type": "code",
   "execution_count": 3,
   "metadata": {
    "colab": {
     "base_uri": "https://localhost:8080/"
    },
    "id": "ODizX248ax1H",
    "outputId": "642e6590-faa4-4415-a636-9a528e660c91"
   },
   "outputs": [],
   "source": [
    "train_data = datasets.MNIST(root=\"data\", train=True, download=True, transform=transform)\n",
    "test_data = datasets.MNIST(root=\"data\", train=False, download=True, transform=transform)"
   ]
  },
  {
   "cell_type": "code",
   "execution_count": 4,
   "metadata": {
    "colab": {
     "base_uri": "https://localhost:8080/"
    },
    "id": "rSVLbv6bbB1C",
    "outputId": "ebfd9cd3-1789-40e3-bfd1-ac8f45ebad7e"
   },
   "outputs": [
    {
     "data": {
      "text/plain": [
       "Dataset MNIST\n",
       "    Number of datapoints: 60000\n",
       "    Root location: data\n",
       "    Split: Train\n",
       "    StandardTransform\n",
       "Transform: ToTensor()"
      ]
     },
     "execution_count": 4,
     "metadata": {},
     "output_type": "execute_result"
    }
   ],
   "source": [
    "train_data"
   ]
  },
  {
   "cell_type": "code",
   "execution_count": 5,
   "metadata": {
    "colab": {
     "base_uri": "https://localhost:8080/"
    },
    "id": "0DGp-GuUbEn8",
    "outputId": "9da2cdab-5279-4261-f9a8-a699f0aec79f"
   },
   "outputs": [
    {
     "data": {
      "text/plain": [
       "Dataset MNIST\n",
       "    Number of datapoints: 10000\n",
       "    Root location: data\n",
       "    Split: Test\n",
       "    StandardTransform\n",
       "Transform: ToTensor()"
      ]
     },
     "execution_count": 5,
     "metadata": {},
     "output_type": "execute_result"
    }
   ],
   "source": [
    "test_data"
   ]
  },
  {
   "cell_type": "markdown",
   "metadata": {
    "id": "JsTBoMtQbNOl"
   },
   "source": [
    "## Creating Data Loader"
   ]
  },
  {
   "cell_type": "code",
   "execution_count": 6,
   "metadata": {
    "id": "276Vm9AHbFjX"
   },
   "outputs": [],
   "source": [
    "train_loader = DataLoader(\n",
    "    train_data,\n",
    "    batch_size=10,\n",
    "    shuffle=True\n",
    ")\n",
    "\n",
    "test_loader = DataLoader(\n",
    "    test_data,\n",
    "    batch_size=10,\n",
    "    shuffle=False\n",
    ")"
   ]
  },
  {
   "cell_type": "markdown",
   "metadata": {
    "id": "q_X21rIAbsTm"
   },
   "source": [
    "## Setting Convolutional Layers"
   ]
  },
  {
   "cell_type": "code",
   "execution_count": 7,
   "metadata": {
    "id": "wYrEcZUubffM"
   },
   "outputs": [],
   "source": [
    "conv1 = nn.Conv2d(\n",
    "    in_channels=1,\n",
    "    out_channels=6,\n",
    "    kernel_size=3,\n",
    "    stride=1\n",
    ")\n",
    "\n",
    "conv2 = nn.Conv2d(\n",
    "    in_channels=6,\n",
    "    out_channels=16,\n",
    "    kernel_size=3,\n",
    "    stride=1\n",
    ")"
   ]
  },
  {
   "cell_type": "markdown",
   "metadata": {
    "id": "ZoZD--iDcoZU"
   },
   "source": [
    "## Checking Data"
   ]
  },
  {
   "cell_type": "code",
   "execution_count": 8,
   "metadata": {
    "id": "D0VLF1YBclHO"
   },
   "outputs": [],
   "source": [
    "for i, (X_train, y_train) in enumerate(train_data):\n",
    "  break"
   ]
  },
  {
   "cell_type": "code",
   "execution_count": 9,
   "metadata": {
    "colab": {
     "base_uri": "https://localhost:8080/"
    },
    "id": "OumqTw33czcQ",
    "outputId": "66222067-3238-4918-9bbf-311a326f24a1"
   },
   "outputs": [
    {
     "data": {
      "text/plain": [
       "torch.Size([1, 28, 28])"
      ]
     },
     "execution_count": 9,
     "metadata": {},
     "output_type": "execute_result"
    }
   ],
   "source": [
    "X_train.shape"
   ]
  },
  {
   "cell_type": "code",
   "execution_count": 10,
   "metadata": {
    "id": "syATyx0Cc1B7"
   },
   "outputs": [],
   "source": [
    "x = X_train.view(1, 1, 28, 28)"
   ]
  },
  {
   "cell_type": "markdown",
   "metadata": {
    "id": "Il59LLmBdub8"
   },
   "source": [
    "## Passing Data through Layers"
   ]
  },
  {
   "cell_type": "code",
   "execution_count": 11,
   "metadata": {
    "id": "xhD3GuJNc7tl"
   },
   "outputs": [],
   "source": [
    "x = F.relu(conv1(x))"
   ]
  },
  {
   "cell_type": "code",
   "execution_count": 12,
   "metadata": {
    "colab": {
     "base_uri": "https://localhost:8080/"
    },
    "id": "Lw3sDJfbdB3H",
    "outputId": "e654e1d5-3edf-451b-e506-b62947321f47"
   },
   "outputs": [
    {
     "data": {
      "text/plain": [
       "torch.Size([1, 6, 26, 26])"
      ]
     },
     "execution_count": 12,
     "metadata": {},
     "output_type": "execute_result"
    }
   ],
   "source": [
    "x.shape"
   ]
  },
  {
   "cell_type": "code",
   "execution_count": 13,
   "metadata": {
    "id": "cD1JsZTCdEaf"
   },
   "outputs": [],
   "source": [
    "x = F.max_pool2d(input=x, kernel_size=2, stride=2)"
   ]
  },
  {
   "cell_type": "code",
   "execution_count": 14,
   "metadata": {
    "colab": {
     "base_uri": "https://localhost:8080/"
    },
    "id": "SNiUQ9VsdmZ0",
    "outputId": "de5434c4-b572-4d52-9f25-b1b13ab7e70d"
   },
   "outputs": [
    {
     "data": {
      "text/plain": [
       "torch.Size([1, 6, 13, 13])"
      ]
     },
     "execution_count": 14,
     "metadata": {},
     "output_type": "execute_result"
    }
   ],
   "source": [
    "x.shape"
   ]
  },
  {
   "cell_type": "code",
   "execution_count": 15,
   "metadata": {
    "id": "fcbO1H1ndpB-"
   },
   "outputs": [],
   "source": [
    "x = F.relu(conv2(x))"
   ]
  },
  {
   "cell_type": "code",
   "execution_count": 16,
   "metadata": {
    "colab": {
     "base_uri": "https://localhost:8080/"
    },
    "id": "SIhQlXiod3C5",
    "outputId": "f62eeb75-242c-4965-9f64-d67be8a244f7"
   },
   "outputs": [
    {
     "data": {
      "text/plain": [
       "torch.Size([1, 16, 11, 11])"
      ]
     },
     "execution_count": 16,
     "metadata": {},
     "output_type": "execute_result"
    }
   ],
   "source": [
    "x.shape"
   ]
  },
  {
   "cell_type": "code",
   "execution_count": 17,
   "metadata": {
    "id": "KOuRD5T1d3fX"
   },
   "outputs": [],
   "source": [
    "x = F.max_pool2d(input=x, kernel_size=2, stride=2)"
   ]
  },
  {
   "cell_type": "code",
   "execution_count": 18,
   "metadata": {
    "colab": {
     "base_uri": "https://localhost:8080/"
    },
    "id": "AKMQeVpid5Ti",
    "outputId": "c478470c-de6e-47d6-95ed-f796313ffd68"
   },
   "outputs": [
    {
     "data": {
      "text/plain": [
       "torch.Size([1, 16, 5, 5])"
      ]
     },
     "execution_count": 18,
     "metadata": {},
     "output_type": "execute_result"
    }
   ],
   "source": [
    "x.shape"
   ]
  },
  {
   "cell_type": "code",
   "execution_count": 19,
   "metadata": {
    "colab": {
     "base_uri": "https://localhost:8080/"
    },
    "id": "_mOdGTMRd6CA",
    "outputId": "0f463218-8da4-4a37-ba65-a68ae28d9933"
   },
   "outputs": [
    {
     "data": {
      "text/plain": [
       "torch.Size([1, 400])"
      ]
     },
     "execution_count": 19,
     "metadata": {},
     "output_type": "execute_result"
    }
   ],
   "source": [
    "x.view(-1, 16*5*5).shape"
   ]
  },
  {
   "cell_type": "markdown",
   "metadata": {
    "id": "abQVwaengFHN"
   },
   "source": [
    "## Creating Model"
   ]
  },
  {
   "cell_type": "code",
   "execution_count": 20,
   "metadata": {
    "id": "jt376nh-ei6m"
   },
   "outputs": [],
   "source": [
    "class ConvolutionalNetwork(nn.Module):\n",
    "    def __init__(self):\n",
    "        super().__init__()\n",
    "        self.conv1 = nn.Conv2d(in_channels=1, out_channels=6, kernel_size=3, stride=1)\n",
    "        self.conv2 = nn.Conv2d(in_channels=6, out_channels=16, kernel_size=3, stride=1)\n",
    "        self.fc1 = nn.Linear(in_features=5*5*16, out_features=120)\n",
    "        self.fc2 = nn.Linear(in_features=120, out_features=84)\n",
    "        self.fc3 = nn.Linear(in_features=84, out_features=10)\n",
    "\n",
    "    def forward(self, X):\n",
    "        X = F.relu(self.conv1(X))\n",
    "        X = F.max_pool2d(input=X, kernel_size=2, stride=2)\n",
    "        X = F.relu(self.conv2(X))\n",
    "        X = F.max_pool2d(input=X, kernel_size=2, stride=2)\n",
    "        X = X.view(-1, 16*5*5)\n",
    "        X = F.relu(self.fc1(X))\n",
    "        X = F.relu(self.fc2(X))\n",
    "        X = self.fc3(X)\n",
    "        return F.log_softmax(X, dim=1)"
   ]
  },
  {
   "cell_type": "markdown",
   "metadata": {
    "id": "O41DGMukhjwJ"
   },
   "source": [
    "## Training the Model"
   ]
  },
  {
   "cell_type": "code",
   "execution_count": 21,
   "metadata": {
    "colab": {
     "base_uri": "https://localhost:8080/"
    },
    "id": "s5JWiKiSgqhF",
    "outputId": "3d0421e1-d99e-486a-f9d4-35145a946ffd"
   },
   "outputs": [
    {
     "data": {
      "text/plain": [
       "ConvolutionalNetwork(\n",
       "  (conv1): Conv2d(1, 6, kernel_size=(3, 3), stride=(1, 1))\n",
       "  (conv2): Conv2d(6, 16, kernel_size=(3, 3), stride=(1, 1))\n",
       "  (fc1): Linear(in_features=400, out_features=120, bias=True)\n",
       "  (fc2): Linear(in_features=120, out_features=84, bias=True)\n",
       "  (fc3): Linear(in_features=84, out_features=10, bias=True)\n",
       ")"
      ]
     },
     "execution_count": 21,
     "metadata": {},
     "output_type": "execute_result"
    }
   ],
   "source": [
    "model = ConvolutionalNetwork()\n",
    "model"
   ]
  },
  {
   "cell_type": "code",
   "execution_count": 22,
   "metadata": {
    "colab": {
     "base_uri": "https://localhost:8080/"
    },
    "id": "axvEULPXgk9f",
    "outputId": "274dad99-74d7-47f8-962f-e884682ba2e6"
   },
   "outputs": [
    {
     "name": "stdout",
     "output_type": "stream",
     "text": [
      "Total Number of Parameters: 60074\n"
     ]
    }
   ],
   "source": [
    "parameter_list = []\n",
    "for param in model.parameters():\n",
    "    parameter_list.append(param.numel())\n",
    "\n",
    "print(f\"Total Number of Parameters: {sum(parameter_list)}\")"
   ]
  },
  {
   "cell_type": "code",
   "execution_count": 23,
   "metadata": {
    "id": "Pp921HUCiQkq"
   },
   "outputs": [],
   "source": [
    "criterion = nn.CrossEntropyLoss()\n",
    "optimizer = torch.optim.Adam(model.parameters(), lr=0.001)"
   ]
  },
  {
   "cell_type": "code",
   "execution_count": 24,
   "metadata": {
    "colab": {
     "base_uri": "https://localhost:8080/"
    },
    "id": "RHN9wYUwieRa",
    "outputId": "b5867f59-4a74-4812-cba7-5454cb4dfbb4"
   },
   "outputs": [
    {
     "name": "stdout",
     "output_type": "stream",
     "text": [
      "EPOCH: 0 BATCH: 600 LOSS: 0.03331459313631058\n",
      "EPOCH: 0 BATCH: 1200 LOSS: 0.13233579695224762\n",
      "EPOCH: 0 BATCH: 1800 LOSS: 0.15138572454452515\n",
      "EPOCH: 0 BATCH: 2400 LOSS: 0.019136885181069374\n",
      "EPOCH: 0 BATCH: 3000 LOSS: 0.10228727757930756\n",
      "EPOCH: 0 BATCH: 3600 LOSS: 0.00841486919671297\n",
      "EPOCH: 0 BATCH: 4200 LOSS: 0.024973953142762184\n",
      "EPOCH: 0 BATCH: 4800 LOSS: 0.19181053340435028\n",
      "EPOCH: 0 BATCH: 5400 LOSS: 0.5637187361717224\n",
      "EPOCH: 0 BATCH: 6000 LOSS: 0.011764734983444214\n",
      "EPOCH: 1 BATCH: 600 LOSS: 0.33658841252326965\n",
      "EPOCH: 1 BATCH: 1200 LOSS: 0.015350839123129845\n",
      "EPOCH: 1 BATCH: 1800 LOSS: 0.3307073712348938\n",
      "EPOCH: 1 BATCH: 2400 LOSS: 0.08684393763542175\n",
      "EPOCH: 1 BATCH: 3000 LOSS: 0.05255715176463127\n",
      "EPOCH: 1 BATCH: 3600 LOSS: 0.0019479237962514162\n",
      "EPOCH: 1 BATCH: 4200 LOSS: 0.0012059623841196299\n",
      "EPOCH: 1 BATCH: 4800 LOSS: 0.0014477105578407645\n",
      "EPOCH: 1 BATCH: 5400 LOSS: 0.004885803908109665\n",
      "EPOCH: 1 BATCH: 6000 LOSS: 6.318575469776988e-05\n",
      "EPOCH: 2 BATCH: 600 LOSS: 0.10635106265544891\n",
      "EPOCH: 2 BATCH: 1200 LOSS: 0.00024188507813960314\n",
      "EPOCH: 2 BATCH: 1800 LOSS: 0.004919814877212048\n",
      "EPOCH: 2 BATCH: 2400 LOSS: 0.010381797328591347\n",
      "EPOCH: 2 BATCH: 3000 LOSS: 0.022475361824035645\n",
      "EPOCH: 2 BATCH: 3600 LOSS: 0.00022684221039526165\n",
      "EPOCH: 2 BATCH: 4200 LOSS: 0.0037035360001027584\n",
      "EPOCH: 2 BATCH: 4800 LOSS: 0.0003535115683916956\n",
      "EPOCH: 2 BATCH: 5400 LOSS: 0.029271692037582397\n",
      "EPOCH: 2 BATCH: 6000 LOSS: 0.16994313895702362\n",
      "EPOCH: 3 BATCH: 600 LOSS: 0.0008069314062595367\n",
      "EPOCH: 3 BATCH: 1200 LOSS: 0.24273338913917542\n",
      "EPOCH: 3 BATCH: 1800 LOSS: 0.0007590714958496392\n",
      "EPOCH: 3 BATCH: 2400 LOSS: 0.0007103302050381899\n",
      "EPOCH: 3 BATCH: 3000 LOSS: 7.810168608557433e-05\n",
      "EPOCH: 3 BATCH: 3600 LOSS: 0.0024350653402507305\n",
      "EPOCH: 3 BATCH: 4200 LOSS: 5.758194674854167e-05\n",
      "EPOCH: 3 BATCH: 4800 LOSS: 0.0019809002988040447\n",
      "EPOCH: 3 BATCH: 5400 LOSS: 1.6128557035699487e-05\n",
      "EPOCH: 3 BATCH: 6000 LOSS: 0.0012531217653304338\n",
      "EPOCH: 4 BATCH: 600 LOSS: 0.10885532945394516\n",
      "EPOCH: 4 BATCH: 1200 LOSS: 0.004869011230766773\n",
      "EPOCH: 4 BATCH: 1800 LOSS: 0.011568334884941578\n",
      "EPOCH: 4 BATCH: 2400 LOSS: 0.0002715971786528826\n",
      "EPOCH: 4 BATCH: 3000 LOSS: 7.74733634898439e-05\n",
      "EPOCH: 4 BATCH: 3600 LOSS: 0.03171522170305252\n",
      "EPOCH: 4 BATCH: 4200 LOSS: 8.126109605655074e-05\n",
      "EPOCH: 4 BATCH: 4800 LOSS: 2.620013583509717e-05\n",
      "EPOCH: 4 BATCH: 5400 LOSS: 1.0764381840999704e-05\n",
      "EPOCH: 4 BATCH: 6000 LOSS: 0.3192216157913208\n",
      "Training Took 1.2667845209439597 minutes\n"
     ]
    }
   ],
   "source": [
    "import time\n",
    "start_time = time.time()\n",
    "\n",
    "epochs = 5\n",
    "train_losses_list = []\n",
    "test_losses_list = []\n",
    "train_correct_list = []\n",
    "test_correct_list = []\n",
    "\n",
    "for i in range(epochs):\n",
    "    train_correct = 0\n",
    "    test_correct = 0\n",
    "\n",
    "    for batch, (X_train, y_train) in enumerate(train_loader):\n",
    "        batch += 1\n",
    "        y_pred = model(X_train)\n",
    "        loss = criterion(y_pred, y_train)\n",
    "\n",
    "        predicted = torch.max(y_pred.data, 1)[1]\n",
    "        batch_correct = (predicted == y_train).sum()\n",
    "        train_correct += batch_correct\n",
    "\n",
    "        optimizer.zero_grad()\n",
    "        loss.backward()\n",
    "        optimizer.step()\n",
    "\n",
    "        if batch % 600 == 0:\n",
    "            print(f\"EPOCH: {i} BATCH: {batch} LOSS: {loss.item()}\")\n",
    "\n",
    "    train_losses_list.append(loss.detach().numpy())\n",
    "    train_correct_list.append(train_correct)\n",
    "\n",
    "    # Testing\n",
    "    with torch.no_grad():\n",
    "        for batch, (X_test, y_test) in enumerate(test_loader):\n",
    "            y_val = model(X_test)\n",
    "            predicted = torch.max(y_val.data, 1)[1]\n",
    "            test_correct += (predicted == y_test).sum()\n",
    "\n",
    "    loss = criterion(y_val, y_test)\n",
    "    test_losses_list.append(loss.detach().numpy())\n",
    "    test_correct_list.append(test_correct)\n",
    "\n",
    "\n",
    "current_time = time.time()\n",
    "total_time = current_time - start_time\n",
    "print(f\"Training Took {total_time/60} minutes\")"
   ]
  },
  {
   "cell_type": "code",
   "execution_count": 25,
   "metadata": {
    "id": "mf4QvalHlXEc"
   },
   "outputs": [
    {
     "data": {
      "image/png": "[encoded data removed]",
      "text/plain": [
       "<Figure size 640x480 with 1 Axes>"
      ]
     },
     "metadata": {},
     "output_type": "display_data"
    }
   ],
   "source": [
    "plt.plot(train_losses_list, label='Train Loss')\n",
    "plt.plot(test_losses_list, label='Validation Loss')\n",
    "plt.title(\"Loss at Epoch\")\n",
    "plt.legend();"
   ]
  },
  {
   "cell_type": "code",
   "execution_count": 27,
   "metadata": {},
   "outputs": [
    {
     "data": {
      "image/png": "[encoded data removed]",
      "text/plain": [
       "<Figure size 640x480 with 1 Axes>"
      ]
     },
     "metadata": {},
     "output_type": "display_data"
    }
   ],
   "source": [
    "plt.plot([train/600 for train in train_correct_list], label='Train Accuracy')\n",
    "plt.plot([test/100 for test in test_correct_list], label='Validation Accuracy')\n",
    "plt.title(\"Accuracy at Epoch\")\n",
    "plt.legend();"
   ]
  },
  {
   "cell_type": "markdown",
   "metadata": {},
   "source": [
    "## Evaluate Test Data"
   ]
  },
  {
   "cell_type": "code",
   "execution_count": 28,
   "metadata": {},
   "outputs": [],
   "source": [
    "test_load_all = DataLoader(\n",
    "    dataset=test_data,\n",
    "    batch_size=10000,\n",
    "    shuffle=False\n",
    ")"
   ]
  },
  {
   "cell_type": "code",
   "execution_count": 29,
   "metadata": {},
   "outputs": [],
   "source": [
    "with torch.no_grad():\n",
    "    correct = 0\n",
    "    for X_test, y_test in test_load_all:\n",
    "        y_val = model(X_test)\n",
    "        predicted = torch.max(y_val.data, 1)[1]\n",
    "        correct += (predicted == y_test).sum()"
   ]
  },
  {
   "cell_type": "code",
   "execution_count": 30,
   "metadata": {},
   "outputs": [
    {
     "data": {
      "text/plain": [
       "0.9861"
      ]
     },
     "execution_count": 30,
     "metadata": {},
     "output_type": "execute_result"
    }
   ],
   "source": [
    "correct.item() / 10000"
   ]
  },
  {
   "cell_type": "code",
   "execution_count": 31,
   "metadata": {},
   "outputs": [
    {
     "name": "stdout",
     "output_type": "stream",
     "text": [
      "              precision    recall  f1-score   support\n",
      "\n",
      "           0       1.00      0.97      0.98      1003\n",
      "           1       1.00      0.99      1.00      1138\n",
      "           2       1.00      0.97      0.98      1061\n",
      "           3       0.99      0.99      0.99      1005\n",
      "           4       0.99      1.00      0.99       972\n",
      "           5       0.99      0.99      0.99       894\n",
      "           6       0.98      0.99      0.98       945\n",
      "           7       0.98      0.98      0.98      1029\n",
      "           8       0.97      0.99      0.98       948\n",
      "           9       0.98      0.99      0.98      1005\n",
      "\n",
      "    accuracy                           0.99     10000\n",
      "   macro avg       0.99      0.99      0.99     10000\n",
      "weighted avg       0.99      0.99      0.99     10000\n",
      "\n"
     ]
    }
   ],
   "source": [
    "print(classification_report(y_true=predicted.view(-1), y_pred=y_test.view(-1)))"
   ]
  },
  {
   "cell_type": "code",
   "execution_count": 32,
   "metadata": {},
   "outputs": [
    {
     "data": {
      "text/plain": [
       "<Axes: >"
      ]
     },
     "execution_count": 32,
     "metadata": {},
     "output_type": "execute_result"
    },
    {
     "data": {
      "image/png": "[encoded data removed]",
      "text/plain": [
       "<Figure size 1000x600 with 2 Axes>"
      ]
     },
     "metadata": {},
     "output_type": "display_data"
    }
   ],
   "source": [
    "plt.figure(figsize=(10,6))\n",
    "matrix = confusion_matrix(y_true=predicted.view(-1), y_pred=y_test.view(-1))\n",
    "sns.heatmap(matrix, annot=True, fmt='1.0f')"
   ]
  },
  {
   "cell_type": "markdown",
   "metadata": {},
   "source": [
    "## Predicting on Single Image"
   ]
  },
  {
   "cell_type": "code",
   "execution_count": 33,
   "metadata": {},
   "outputs": [
    {
     "data": {
      "text/plain": [
       "<matplotlib.image.AxesImage at 0x1cf21aca150>"
      ]
     },
     "execution_count": 33,
     "metadata": {},
     "output_type": "execute_result"
    },
    {
     "data": {
      "image/png": "[encoded data removed]",
      "text/plain": [
       "<Figure size 640x480 with 1 Axes>"
      ]
     },
     "metadata": {},
     "output_type": "display_data"
    }
   ],
   "source": [
    "plt.imshow(test_data[2019][0].reshape(28, 28))"
   ]
  },
  {
   "cell_type": "code",
   "execution_count": 34,
   "metadata": {},
   "outputs": [],
   "source": [
    "model.eval()\n",
    "\n",
    "with torch.no_grad():\n",
    "    single_image_prediction = model(test_data[2019][0].view(1, 1, 28, 28))"
   ]
  },
  {
   "cell_type": "code",
   "execution_count": 36,
   "metadata": {},
   "outputs": [
    {
     "data": {
      "text/plain": [
       "tensor(9)"
      ]
     },
     "execution_count": 36,
     "metadata": {},
     "output_type": "execute_result"
    }
   ],
   "source": [
    "single_image_prediction.argmax()"
   ]
  },
  {
   "cell_type": "code",
   "execution_count": null,
   "metadata": {},
   "outputs": [],
   "source": []
  }
 ],
 "metadata": {
  "colab": {
   "provenance": []
  },
  "kernelspec": {
   "display_name": "Python 3 (ipykernel)",
   "language": "python",
   "name": "python3"
  },
  "language_info": {
   "codemirror_mode": {
    "name": "ipython",
    "version": 3
   },
   "file_extension": ".py",
   "mimetype": "text/x-python",
   "name": "python",
   "nbconvert_exporter": "python",
   "pygments_lexer": "ipython3",
   "version": "3.11.11"
  }
 },
 "nbformat": 4,
 "nbformat_minor": 4
}
