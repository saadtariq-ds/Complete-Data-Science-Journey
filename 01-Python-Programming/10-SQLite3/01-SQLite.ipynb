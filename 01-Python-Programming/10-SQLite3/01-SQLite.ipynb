{
 "cells": [
  {
   "cell_type": "markdown",
   "metadata": {},
   "source": [
    "# SQL and SQLite\n",
    "\n",
    "SQL is a standard language for managing and manipulating relational databases.\n",
    "\n",
    "SQLite is a self-contained, serverless, and zero-configuration database engine that is widely used for embedded database systems."
   ]
  },
  {
   "cell_type": "code",
   "execution_count": 10,
   "metadata": {},
   "outputs": [],
   "source": [
    "import sqlite3"
   ]
  },
  {
   "cell_type": "markdown",
   "metadata": {},
   "source": [
    "## Connect to a Database"
   ]
  },
  {
   "cell_type": "code",
   "execution_count": 11,
   "metadata": {},
   "outputs": [
    {
     "data": {
      "text/plain": [
       "<sqlite3.Connection at 0x20b29053a60>"
      ]
     },
     "execution_count": 11,
     "metadata": {},
     "output_type": "execute_result"
    }
   ],
   "source": [
    "connection = sqlite3.connect(\"example.db\")\n",
    "connection"
   ]
  },
  {
   "cell_type": "markdown",
   "metadata": {},
   "source": [
    "### Creating a Cursor Object"
   ]
  },
  {
   "cell_type": "code",
   "execution_count": 12,
   "metadata": {},
   "outputs": [],
   "source": [
    "cursor = connection.cursor()"
   ]
  },
  {
   "cell_type": "markdown",
   "metadata": {},
   "source": [
    "### Create a Table"
   ]
  },
  {
   "cell_type": "code",
   "execution_count": 13,
   "metadata": {},
   "outputs": [],
   "source": [
    "cursor.execute('''\n",
    "Create Table If Not Exists employees (\n",
    "               id Integer Primary Key,\n",
    "               name Text Not Null,\n",
    "               age Integer,\n",
    "               department text\n",
    "            )\n",
    "''')\n",
    "\n",
    "connection.commit()"
   ]
  },
  {
   "cell_type": "markdown",
   "metadata": {},
   "source": [
    "### Run a Query"
   ]
  },
  {
   "cell_type": "code",
   "execution_count": 14,
   "metadata": {},
   "outputs": [
    {
     "data": {
      "text/plain": [
       "<sqlite3.Cursor at 0x20b29265ac0>"
      ]
     },
     "execution_count": 14,
     "metadata": {},
     "output_type": "execute_result"
    }
   ],
   "source": [
    "cursor.execute('''\n",
    "Select * from employees\n",
    "''')"
   ]
  },
  {
   "cell_type": "markdown",
   "metadata": {},
   "source": [
    "### Insert a Data"
   ]
  },
  {
   "cell_type": "code",
   "execution_count": 15,
   "metadata": {},
   "outputs": [],
   "source": [
    "cursor.execute('''\n",
    "Insert into employees (name, age, department)\n",
    "               values('Saad', 27, 'Machine Learning')\n",
    "''')\n",
    "\n",
    "cursor.execute('''\n",
    "Insert into employees (name, age, department)\n",
    "               values('John', 33, 'HR')\n",
    "''')\n",
    "\n",
    "cursor.execute('''\n",
    "Insert into employees (name, age, department)\n",
    "               values('Dean', 26, 'Finance')\n",
    "''')\n",
    "\n",
    "connection.commit()"
   ]
  },
  {
   "cell_type": "code",
   "execution_count": 16,
   "metadata": {},
   "outputs": [
    {
     "data": {
      "text/plain": [
       "[(1, 'Saad', 27, 'Machine Learning'),\n",
       " (2, 'John', 33, 'HR'),\n",
       " (3, 'Dean', 26, 'Finance'),\n",
       " (4, 'Saad', 27, 'Machine Learning'),\n",
       " (5, 'John', 33, 'HR'),\n",
       " (6, 'Dean', 26, 'Finance'),\n",
       " (7, 'Saad', 27, 'Machine Learning'),\n",
       " (8, 'John', 33, 'HR'),\n",
       " (9, 'Dean', 26, 'Finance')]"
      ]
     },
     "execution_count": 16,
     "metadata": {},
     "output_type": "execute_result"
    }
   ],
   "source": [
    "cursor.execute('''\n",
    "Select * from employees\n",
    "''')\n",
    "rows = cursor.fetchall()\n",
    "rows"
   ]
  },
  {
   "cell_type": "markdown",
   "metadata": {},
   "source": [
    "## Update Data"
   ]
  },
  {
   "cell_type": "code",
   "execution_count": 17,
   "metadata": {},
   "outputs": [
    {
     "data": {
      "text/plain": [
       "<sqlite3.Cursor at 0x20b29265ac0>"
      ]
     },
     "execution_count": 17,
     "metadata": {},
     "output_type": "execute_result"
    }
   ],
   "source": [
    "cursor.execute(''' \n",
    "UPDATE employees\n",
    "               Set age=28\n",
    "               where name='Saad'\n",
    "''')"
   ]
  },
  {
   "cell_type": "code",
   "execution_count": 18,
   "metadata": {},
   "outputs": [
    {
     "data": {
      "text/plain": [
       "[(1, 'Saad', 28, 'Machine Learning'),\n",
       " (2, 'John', 33, 'HR'),\n",
       " (3, 'Dean', 26, 'Finance'),\n",
       " (4, 'Saad', 28, 'Machine Learning'),\n",
       " (5, 'John', 33, 'HR'),\n",
       " (6, 'Dean', 26, 'Finance'),\n",
       " (7, 'Saad', 28, 'Machine Learning'),\n",
       " (8, 'John', 33, 'HR'),\n",
       " (9, 'Dean', 26, 'Finance')]"
      ]
     },
     "execution_count": 18,
     "metadata": {},
     "output_type": "execute_result"
    }
   ],
   "source": [
    "cursor.execute('''\n",
    "Select * from employees\n",
    "''')\n",
    "rows = cursor.fetchall()\n",
    "rows"
   ]
  },
  {
   "cell_type": "markdown",
   "metadata": {},
   "source": [
    "## Delete the Data"
   ]
  },
  {
   "cell_type": "code",
   "execution_count": 19,
   "metadata": {},
   "outputs": [
    {
     "data": {
      "text/plain": [
       "<sqlite3.Cursor at 0x20b29265ac0>"
      ]
     },
     "execution_count": 19,
     "metadata": {},
     "output_type": "execute_result"
    }
   ],
   "source": [
    "cursor.execute(''' \n",
    "Delete from employees\n",
    "               where name='John'\n",
    "''')"
   ]
  },
  {
   "cell_type": "code",
   "execution_count": 20,
   "metadata": {},
   "outputs": [
    {
     "data": {
      "text/plain": [
       "[(1, 'Saad', 28, 'Machine Learning'),\n",
       " (3, 'Dean', 26, 'Finance'),\n",
       " (4, 'Saad', 28, 'Machine Learning'),\n",
       " (6, 'Dean', 26, 'Finance'),\n",
       " (7, 'Saad', 28, 'Machine Learning'),\n",
       " (9, 'Dean', 26, 'Finance')]"
      ]
     },
     "execution_count": 20,
     "metadata": {},
     "output_type": "execute_result"
    }
   ],
   "source": [
    "cursor.execute('''\n",
    "Select * from employees\n",
    "''')\n",
    "rows = cursor.fetchall()\n",
    "rows"
   ]
  },
  {
   "cell_type": "markdown",
   "metadata": {},
   "source": [
    "## Practical Example"
   ]
  },
  {
   "cell_type": "code",
   "execution_count": 21,
   "metadata": {},
   "outputs": [],
   "source": [
    "connection = sqlite3.connect(\"sales_data.db\")\n",
    "cursor = connection.cursor()\n",
    "\n",
    "cursor.execute('''\n",
    "Create Table If Not Exists sales (\n",
    "               id Integer Primary Key,\n",
    "               date Text Not Null,\n",
    "               product Text Not Null,\n",
    "               sales integer,\n",
    "               region TEXT\n",
    "               \n",
    "            )\n",
    "''')\n",
    "\n",
    "connection.commit()"
   ]
  },
  {
   "cell_type": "code",
   "execution_count": 24,
   "metadata": {},
   "outputs": [],
   "source": [
    "sales_data = [\n",
    "    ('2023-01-01', 'Product1', 100, 'North'),\n",
    "    ('2023-01-02', 'Product1', 200, 'North'),\n",
    "    ('2023-01-03', 'Product1', 300, 'West'),\n",
    "    ('2023-01-04', 'Product1', 400, 'West'),\n",
    "    ('2023-01-05', 'Product1', 500, 'East'),\n",
    "    ('2023-01-06', 'Product1', 600, 'South'),\n",
    "]"
   ]
  },
  {
   "cell_type": "code",
   "execution_count": 25,
   "metadata": {},
   "outputs": [
    {
     "data": {
      "text/plain": [
       "<sqlite3.Cursor at 0x20b293066c0>"
      ]
     },
     "execution_count": 25,
     "metadata": {},
     "output_type": "execute_result"
    }
   ],
   "source": [
    "cursor.executemany(''' \n",
    "    Insert into sales(date, product,sales,region)\n",
    "                   values(?,?,?,?)\n",
    "''', sales_data)"
   ]
  },
  {
   "cell_type": "code",
   "execution_count": 26,
   "metadata": {},
   "outputs": [
    {
     "data": {
      "text/plain": [
       "[(1, '2023-01-01', 'Product1', 100, 'North'),\n",
       " (2, '2023-01-02', 'Product1', 200, 'North'),\n",
       " (3, '2023-01-03', 'Product1', 300, 'West'),\n",
       " (4, '2023-01-04', 'Product1', 400, 'West'),\n",
       " (5, '2023-01-05', 'Product1', 500, 'East'),\n",
       " (6, '2023-01-06', 'Product1', 600, 'South')]"
      ]
     },
     "execution_count": 26,
     "metadata": {},
     "output_type": "execute_result"
    }
   ],
   "source": [
    "cursor.execute('''\n",
    "Select * from sales\n",
    "''')\n",
    "rows = cursor.fetchall()\n",
    "rows"
   ]
  },
  {
   "cell_type": "code",
   "execution_count": 27,
   "metadata": {},
   "outputs": [],
   "source": [
    "connection.close()"
   ]
  },
  {
   "cell_type": "code",
   "execution_count": null,
   "metadata": {},
   "outputs": [],
   "source": []
  }
 ],
 "metadata": {
  "kernelspec": {
   "display_name": "Python 3",
   "language": "python",
   "name": "python3"
  },
  "language_info": {
   "codemirror_mode": {
    "name": "ipython",
    "version": 3
   },
   "file_extension": ".py",
   "mimetype": "text/x-python",
   "name": "python",
   "nbconvert_exporter": "python",
   "pygments_lexer": "ipython3",
   "version": "3.12.0"
  }
 },
 "nbformat": 4,
 "nbformat_minor": 2
}
