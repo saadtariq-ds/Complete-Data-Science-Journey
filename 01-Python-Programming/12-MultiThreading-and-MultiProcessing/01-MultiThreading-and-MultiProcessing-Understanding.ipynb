{
 "cells": [
  {
   "cell_type": "markdown",
   "metadata": {},
   "source": [
    "# Multi Threading and Multi Processing\n",
    "\n",
    "1. Program\n",
    "2. Process\n",
    "3. Threads\n",
    "4. Examples of Process and Thread"
   ]
  },
  {
   "cell_type": "markdown",
   "metadata": {},
   "source": [
    "## Program\n",
    "\n",
    "A program is a sequence of instructions written in programming language e.g., Python, Java, C++, etc\n",
    "\n",
    "### Example\n",
    "\n",
    "Google Chrome is an exe file which is a program"
   ]
  },
  {
   "cell_type": "markdown",
   "metadata": {},
   "source": []
  },
  {
   "cell_type": "markdown",
   "metadata": {},
   "source": [
    "## Process\n",
    "\n",
    "A process is simply an instance of a program that is being executed. It works along with an OS and requires some of the resources.\n",
    "\n",
    "1. **Code Segment**: The code that is required to run a particular process. The program will be available in code segment\n",
    "2. **Data Segment**: Data segment has the list of all global and static variables, so that wherever in the program it is required, it will be able to access it\n",
    "3. **Heap Memory**:  Dynamic allocation of the memory will automatically keep on happening\n",
    "4. **Stack**: Stack is going to make sure that it has access of all the local variable function calls.\n",
    "5. **Registers**: Smaller memories to store some of the variables, logics for a smaller period of time\n",
    "\n",
    "Every process have a separate memory space\n",
    "- One process cannot corrupt another process\n",
    "- I/O requirements increases, Increase execution time to switch between processes"
   ]
  },
  {
   "cell_type": "markdown",
   "metadata": {},
   "source": []
  },
  {
   "cell_type": "markdown",
   "metadata": {},
   "source": [
    "## Threads\n",
    "\n",
    "Thread is a unit of execution within the process\n",
    "\n",
    "### Types\n",
    "1. **Single Thread at Process**: A single thread, having its own stack and register but will be sharing code segment, data segment and heap from the process itself\n",
    "2. **Multi Thread at Process**: Each thread has its own stack and register, and code segment, data segment and heap will be shared"
   ]
  },
  {
   "cell_type": "code",
   "execution_count": null,
   "metadata": {},
   "outputs": [],
   "source": []
  },
  {
   "cell_type": "markdown",
   "metadata": {},
   "source": [
    "## Python Files Order\n",
    "1. multi_threading\n",
    "2. multi_processing\n",
    "3. advance_multi_threading\n",
    "4. advance_multi_processing\n",
    "5. usecase_multi_threading\n",
    "6. usecase_multi_processing"
   ]
  }
 ],
 "metadata": {
  "language_info": {
   "name": "python"
  }
 },
 "nbformat": 4,
 "nbformat_minor": 2
}
