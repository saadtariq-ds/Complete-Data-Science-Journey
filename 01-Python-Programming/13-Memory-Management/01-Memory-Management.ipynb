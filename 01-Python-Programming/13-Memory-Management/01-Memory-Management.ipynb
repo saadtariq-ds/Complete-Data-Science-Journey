{
 "cells": [
  {
   "cell_type": "markdown",
   "metadata": {},
   "source": [
    "# Memory Management\n",
    "\n",
    "Memory Management in Python involves a combination of automatic garbage collection, reference counting, and various internal optimizations to efficiently manage memory allocations and deallocation. Understanding these mechanisms can help developers write more efficient and robust applications\n",
    "\n",
    "1. Key Concepts in Python Memory Management\n",
    "2. Memory Allocation and Deallocation\n",
    "3. Reference Counting\n",
    "4. Garbage Collection\n",
    "5. The gc Module\n",
    "6. Memory Management Best Practices"
   ]
  },
  {
   "cell_type": "markdown",
   "metadata": {},
   "source": [
    "## Reference Counting\n",
    "\n",
    "Reference counting is the primary method Python uses to manage memory. Each object in Python maintains a count of references pointing to it. When the reference count drops to zero, the memory occupied by the object is deallocated,"
   ]
  },
  {
   "cell_type": "code",
   "execution_count": 4,
   "metadata": {},
   "outputs": [
    {
     "name": "stdout",
     "output_type": "stream",
     "text": [
      "2\n"
     ]
    }
   ],
   "source": [
    "import sys\n",
    "\n",
    "a = []\n",
    "print(sys.getrefcount(a))"
   ]
  },
  {
   "cell_type": "code",
   "execution_count": 5,
   "metadata": {},
   "outputs": [
    {
     "name": "stdout",
     "output_type": "stream",
     "text": [
      "3\n"
     ]
    }
   ],
   "source": [
    "b=a\n",
    "print(sys.getrefcount(b))"
   ]
  },
  {
   "cell_type": "code",
   "execution_count": 6,
   "metadata": {},
   "outputs": [
    {
     "name": "stdout",
     "output_type": "stream",
     "text": [
      "2\n"
     ]
    }
   ],
   "source": [
    "del b\n",
    "print(sys.getrefcount(a))"
   ]
  },
  {
   "cell_type": "markdown",
   "metadata": {},
   "source": [
    "## Garbage Collection\n",
    "\n",
    "Python includes a cyclic garbage collector to handle reference cycles. References cycles occur when objects reference each other, preventing their references counts from reaching zero"
   ]
  },
  {
   "cell_type": "code",
   "execution_count": 7,
   "metadata": {},
   "outputs": [],
   "source": [
    "import gc\n",
    "\n",
    "gc.enable()"
   ]
  },
  {
   "cell_type": "code",
   "execution_count": 8,
   "metadata": {},
   "outputs": [],
   "source": [
    "gc.disable()"
   ]
  },
  {
   "cell_type": "code",
   "execution_count": 9,
   "metadata": {},
   "outputs": [
    {
     "data": {
      "text/plain": [
       "496"
      ]
     },
     "execution_count": 9,
     "metadata": {},
     "output_type": "execute_result"
    }
   ],
   "source": [
    "gc.collect()"
   ]
  },
  {
   "cell_type": "code",
   "execution_count": 11,
   "metadata": {},
   "outputs": [
    {
     "name": "stdout",
     "output_type": "stream",
     "text": [
      "[{'collections': 177, 'collected': 1458, 'uncollectable': 0}, {'collections': 16, 'collected': 326, 'uncollectable': 0}, {'collections': 2, 'collected': 496, 'uncollectable': 0}]\n"
     ]
    }
   ],
   "source": [
    "print(gc.get_stats())"
   ]
  },
  {
   "cell_type": "code",
   "execution_count": 12,
   "metadata": {},
   "outputs": [
    {
     "name": "stdout",
     "output_type": "stream",
     "text": [
      "[]\n"
     ]
    }
   ],
   "source": [
    "print(gc.garbage)"
   ]
  },
  {
   "cell_type": "markdown",
   "metadata": {},
   "source": [
    "## Memory Management Best Practices\n",
    "\n",
    "1. **Use Local Variables**: Local variables have a shorter lifespan and are freed sooner than global variables\n",
    "2. **Avoid Circular References**: Circular references can lead to memory leaks if not properly managed.\n",
    "3. **Use Generators**: Generators produce items one at a time and only keep one item in memory at a time, making them memory efficient.\n",
    "4. **Explicitly Delete Objects**: Use the del statement to delete variables and objects explicitly\n",
    "5. **Profile Memory Usage**: Use memory profiling tools like tracemalloc and memory_profiler to identify memory leaks and optimize memory usage"
   ]
  },
  {
   "cell_type": "markdown",
   "metadata": {},
   "source": [
    "### Avoid Circular References"
   ]
  },
  {
   "cell_type": "code",
   "execution_count": 14,
   "metadata": {},
   "outputs": [
    {
     "name": "stdout",
     "output_type": "stream",
     "text": [
      "Object: obj1 created\n",
      "Object: obj2 created\n",
      "Object obj1 deleted\n",
      "Object obj2 deleted\n"
     ]
    },
    {
     "data": {
      "text/plain": [
       "9"
      ]
     },
     "execution_count": 14,
     "metadata": {},
     "output_type": "execute_result"
    }
   ],
   "source": [
    "import gc\n",
    "\n",
    "class MyObject:\n",
    "    def __init__(self, name):\n",
    "        self.name = name\n",
    "        print(f\"Object: {self.name} created\")\n",
    "\n",
    "    def __del__(self):\n",
    "        print(f\"Object {self.name} deleted\")\n",
    "\n",
    "#Circular Reference\n",
    "obj1 = MyObject(\"obj1\")\n",
    "obj2 = MyObject(\"obj2\")\n",
    "obj1.ref=obj2\n",
    "obj2.ref=obj1\n",
    "\n",
    "del obj1\n",
    "del obj2\n",
    "\n",
    "# Manually trigger garbage collection\n",
    "gc.collect()"
   ]
  },
  {
   "cell_type": "markdown",
   "metadata": {},
   "source": [
    "### Using Generators"
   ]
  },
  {
   "cell_type": "code",
   "execution_count": 15,
   "metadata": {},
   "outputs": [
    {
     "name": "stdout",
     "output_type": "stream",
     "text": [
      "0\n",
      "1\n",
      "2\n",
      "3\n",
      "4\n",
      "5\n",
      "6\n",
      "7\n",
      "8\n",
      "9\n",
      "10\n",
      "11\n"
     ]
    }
   ],
   "source": [
    "def generate_numbers(n):\n",
    "    for i in range(n):\n",
    "        yield i\n",
    "\n",
    "for num in generate_numbers(100000):\n",
    "    print(num)\n",
    "    if num > 10:\n",
    "        break"
   ]
  },
  {
   "cell_type": "markdown",
   "metadata": {},
   "source": [
    "### Profiling"
   ]
  },
  {
   "cell_type": "code",
   "execution_count": 17,
   "metadata": {},
   "outputs": [
    {
     "name": "stdout",
     "output_type": "stream",
     "text": [
      "[ Top 10 ]\n",
      "c:\\Users\\tariq\\data_science_journey\\MachineLearning-NLP-MLOps-Deployment-Bootcamp\\01-Python-Programming\\python-venv\\Lib\\tracemalloc.py:551: size=72 B, count=1, average=72 B\n",
      "C:\\Users\\tariq\\AppData\\Local\\Temp\\ipykernel_18188\\2375588935.py:3: size=72 B, count=1, average=72 B\n"
     ]
    }
   ],
   "source": [
    "import tracemalloc\n",
    "\n",
    "def create_list():\n",
    "    return [i for i in range(1000)]\n",
    "\n",
    "def main():\n",
    "    tracemalloc.start()\n",
    "\n",
    "    create_list()\n",
    "\n",
    "    snapshot = tracemalloc.take_snapshot()\n",
    "    top_stats = snapshot.statistics(\"lineno\")\n",
    "\n",
    "    print(\"[ Top 10 ]\")\n",
    "    for stat in top_stats[:10]:\n",
    "       print(stat) \n",
    "\n",
    "main()"
   ]
  },
  {
   "cell_type": "code",
   "execution_count": null,
   "metadata": {},
   "outputs": [],
   "source": []
  }
 ],
 "metadata": {
  "kernelspec": {
   "display_name": "Python 3",
   "language": "python",
   "name": "python3"
  },
  "language_info": {
   "codemirror_mode": {
    "name": "ipython",
    "version": 3
   },
   "file_extension": ".py",
   "mimetype": "text/x-python",
   "name": "python",
   "nbconvert_exporter": "python",
   "pygments_lexer": "ipython3",
   "version": "3.12.0"
  }
 },
 "nbformat": 4,
 "nbformat_minor": 2
}
