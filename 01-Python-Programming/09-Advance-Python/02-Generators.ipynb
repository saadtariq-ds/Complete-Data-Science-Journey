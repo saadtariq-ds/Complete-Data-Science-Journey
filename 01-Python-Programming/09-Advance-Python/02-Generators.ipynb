{
 "cells": [
  {
   "cell_type": "markdown",
   "metadata": {},
   "source": [
    "# Generators\n",
    "\n",
    "Generators are a simpler way to create iterators. They use the yield keyword to produce a series of values lazily, which means they generate values on the fly and do not store them in memory."
   ]
  },
  {
   "cell_type": "code",
   "execution_count": 1,
   "metadata": {},
   "outputs": [
    {
     "data": {
      "text/plain": [
       "0"
      ]
     },
     "execution_count": 1,
     "metadata": {},
     "output_type": "execute_result"
    }
   ],
   "source": [
    "def square(number):\n",
    "    for i in range(number):\n",
    "        return i**2\n",
    "    \n",
    "square(3)"
   ]
  },
  {
   "cell_type": "code",
   "execution_count": 2,
   "metadata": {},
   "outputs": [
    {
     "name": "stdout",
     "output_type": "stream",
     "text": [
      "0\n",
      "1\n",
      "4\n"
     ]
    }
   ],
   "source": [
    "def square(number):\n",
    "    for i in range(number):\n",
    "        yield i**2\n",
    "    \n",
    "for i in square(3):\n",
    "    print(i)"
   ]
  },
  {
   "cell_type": "code",
   "execution_count": 8,
   "metadata": {},
   "outputs": [
    {
     "data": {
      "text/plain": [
       "<generator object my_generator at 0x0000020BEAC9D9B0>"
      ]
     },
     "execution_count": 8,
     "metadata": {},
     "output_type": "execute_result"
    }
   ],
   "source": [
    "def my_generator():\n",
    "    yield 1\n",
    "    yield 2\n",
    "    yield 3\n",
    "\n",
    "generator = my_generator()\n",
    "generator"
   ]
  },
  {
   "cell_type": "code",
   "execution_count": 6,
   "metadata": {},
   "outputs": [
    {
     "data": {
      "text/plain": [
       "3"
      ]
     },
     "execution_count": 6,
     "metadata": {},
     "output_type": "execute_result"
    }
   ],
   "source": [
    "next(generator)"
   ]
  },
  {
   "cell_type": "code",
   "execution_count": 9,
   "metadata": {},
   "outputs": [
    {
     "name": "stdout",
     "output_type": "stream",
     "text": [
      "1\n",
      "2\n",
      "3\n"
     ]
    }
   ],
   "source": [
    "for value in generator:\n",
    "    print(value)"
   ]
  },
  {
   "cell_type": "markdown",
   "metadata": {},
   "source": [
    "## Practical Example: Reading Large Files\n",
    "\n",
    "Generators are particularly useful for reading large files because they allow you to process one line at a time without loading the entire file into memory."
   ]
  },
  {
   "cell_type": "code",
   "execution_count": 11,
   "metadata": {},
   "outputs": [
    {
     "name": "stdout",
     "output_type": "stream",
     "text": [
      "The 2022 FIFA World Cup was the 22nd FIFA World Cup, the quadrennial world championship for national football teams organized by FIFA. It took place in Qatar from 20 November to 18 December 2022, after the country was awarded the hosting rights in 2010.[2] It was the first World Cup to be held in the Middle East and Persian Gulf countries, and the second held entirely in Asia after the 2002 tournament in South Korea and Japan.[A]\n",
      "\n",
      "This tournament was the last with 32 participating teams, with the number of teams being increased to 48 for the 2026 edition. To avoid the extremes of Qatar's hot climate,[B] the event was held in November and December instead of during the traditional months of May, June, or July.[C] It was held over a reduced time frame of 29 days with 64 matches played in eight venues across five cities. Qatar entered the event—their first World Cup—automatically as the host's national team, alongside 31 teams determined by the qualification process.\n",
      "\n",
      "Argentina were crowned the champions after winning the final against the title holder France 4–2 on penalties following a 3–3 draw after extra time. It was Argentina's third title and their first since 1986, as well as being the first nation from outside of Europe to win the tournament since 2002. French player Kylian Mbappé became the first player to score a hat-trick in a World Cup final since Geoff Hurst in the 1966 final and won the Golden Boot as he scored the most goals (eight) during the tournament. Mbappé also became the first player to score in two consecutive finals since Vavá of Brazil did the same in 1958 and 1962. Argentine captain Lionel Messi was voted the tournament's best player, winning the Golden Ball. The tournament has been considered exceptionally poetic as the capstone of his career, for some commentators fulfilling a previously unmet criterion to be regarded as one of the greatest players of all time.[5] Teammates Emiliano Martínez and Enzo Fernández won the Golden Glove, awarded to the tournament's best goalkeeper; and the Young Player Award, awarded to the tournament's best young player, respectively. With 172 goals, the tournament set a record for the highest number of goals scored in the 32-team format, with every participating team scoring at least one goal.\n",
      "\n",
      "The choice to host the World Cup in Qatar attracted significant criticism, with concerns raised over the country's treatment of migrant workers, women, and members of the LGBT community, as well as Qatar's climate, lack of a strong football culture, scheduling changes, and allegations of bribery for hosting rights and wider FIFA corruption.[D]\n",
      "\n",
      "Format\n",
      "The FIFA World Cup is a professional football tournament held between national football teams, organised by FIFA.[14][15] The tournament, held every four years, was first played in 1930 in Uruguay,[16] and has been contested by 32 teams since the 1998 event.[16] The tournament was contested with eight round-robin groups followed by a knockout round for 16 teams.[17] The defending champions were France, who defeated Croatia 4–2 in the 2018 FIFA World Cup Final.[18][19] The event was scheduled to take place under a reduced length,[20] from 20 November to 18 December in Qatar.[21][22][23] Being held in Qatar, it was the first World Cup tournament to be held in the Arab world.[24] Spectators were not required to follow most COVID-19 restrictions such as social distancing, wearing masks, and negative tests.[25]\n",
      "\n",
      "Schedule\n",
      "Unlike previous FIFA World Cups, which are typically played in June and July, because of Qatar's intense summer heat and often fairly high humidity,[3][22][26] the 2022 World Cup was played in November and December.[6][27] As a result, the World Cup was unusually staged in the middle of the seasons of many domestic association football leagues, which started in late July or August, including all of the major European leagues, which had been obliged to incorporate extended breaks into their domestic schedules to accommodate the World Cup. Major European competitions had scheduled their respective competitions group matches to be played before the World Cup, to avoid playing group matches the following year.[28]\n",
      "\n",
      "The match schedule was confirmed by FIFA on 15 July 2020.[29] The group stage was set to begin on 21 November, with four matches every day. Later, the schedule was tweaked by moving the Qatar vs Ecuador game to 20 November, after Qatar lobbied FIFA to allow their team to open the tournament.[30][31][32] The final was played on 18 December 2022, National Day, at Lusail Stadium.[29][33] Unlike previous tournaments where the match venues and kick-off times for each fixture were set prior to the draw, the assignment of group fixtures for each matchday to a specific venue and kick-off time was only made after the final draw, with the teams of each specific fixture known. This was due to the close proximity of the venues, which allowed the organizers to optimize stadium allocation for spectators and kick-off times for television audiences.[29]\n",
      "\n",
      "The matches for each group were allocated to the following stadiums:[33]\n",
      "\n",
      "Groups A, B, E, F: Al Bayt Stadium, Khalifa International Stadium, Al Thumama Stadium, Ahmad bin Ali Stadium\n",
      "Groups C, D, G, H: Lusail Stadium, Stadium 974, Education City Stadium, Al Janoub Stadium\n",
      "FIFA confirmed the group stage venue and kick-off times on 1 April 2022, following the draw.[34][35]\n",
      "\n",
      "Prize money\n",
      "In April 2022, FIFA announced the prizes for all participating nations. Each qualified team received $1.5 million before the competition to cover preparation costs with each team receiving at least $9 million in prize money. This edition's total prize pool was $440 million, $40 million greater than the prize pool of the previous tournament.[36]\n",
      "\n",
      "Place\tTeams\tAmount (in millions)\n",
      "Per team\tTotal\n",
      "Champions\t1\t$42\t$42\n",
      "Runners-up\t1\t$30\t$30\n",
      "Third place\t1\t$27\t$27\n",
      "Fourth place\t1\t$25\t$25\n",
      "5th–8th place (quarter-finals)\t4\t$17\t$68\n",
      "9th–16th place (round of 16)\t8\t$13\t$104\n",
      "17th–32nd place (group stage)\t16\t$9\t$144\n",
      "Total\t32\t$440\n",
      "Rule changes\n",
      "The tournament featured new substitution rules whereby teams could make up to five substitutions in normal time, and an additional substitution in extra time.[37][38][39] In addition, it was the first World Cup to feature concussion substitutions, whereby each team was permitted to use a maximum of one concussion substitute during a match. A concussion substitution did not count towards a team's quota of regular substitutions.[40] Iranian goalkeeper Alireza Beiranvand suffered a concussion in his country's opening match against England and was replaced by Hossein Hosseini. This was the first use of a dedicated concussion substitute during a World Cup.[41]\n",
      "\n",
      "Host selection\n",
      "Main articles: 2018 and 2022 FIFA World Cup bids and Qatar 2022 FIFA World Cup bid\n",
      "The bidding procedure to host the 2018 and 2022 FIFA World Cups began in January 2009. National associations had until 2 February 2009 to register interest.[42] Initially, 11 bids were made for the 2018 FIFA World Cup, but Mexico withdrew from proceedings,[43][44] and Indonesia's bid was rejected by FIFA in February 2010 after the Indonesian Football Association failed to submit a letter of Indonesian government guarantee to support the bid.[45]\n",
      "\n",
      "After UEFA were guaranteed to host the 2018 event, members of UEFA were no longer in contention to host in 2022.[46] There were five bids remaining for the 2022 FIFA World Cup: Australia, Japan, Qatar, South Korea, and the United States. The 22-member FIFA Executive Committee convened in Zürich, Switzerland, on 2 December 2010 to vote to select the hosts of both tournaments.[47] Two FIFA executive committee members were suspended before the vote in relation to allegations of corruption regarding their votes.[48] The decision to host the 2022 World Cup in Qatar, which was graded as having \"high operational risk\",[49] generated criticism from media commentators.[50] It was criticised by many as being part of the FIFA corruption scandals,[51] which led to the 2015 FIFA corruption case.\n",
      "\n",
      "The voting patterns were as follows:[52]\n",
      "\n",
      "2022 FIFA bidding (majority 12 votes)\n",
      "Bidders\tVotes\n",
      "Round 1\tRound 2\tRound 3\tRound 4\n",
      "Qatar\t11\t10\t11\t14\n",
      "United States\t3\t5\t6\t8\n",
      "South Korea\t4\t5\t5\tEliminated\n",
      "Japan\t3\t2\tEliminated\n",
      "Australia\t1\tEliminated\n",
      "Cost of hosting the tournament\n",
      "At an estimated cost of over $220 billion,[53] it is the most expensive World Cup ever held to date; this figure is disputed by Qatari officials, including organising CEO Nasser Al Khater, who said the true cost was $8 billion, and other figures related to overall infrastructure development since the World Cup was awarded to Qatar in 2010.[54]\n"
     ]
    }
   ],
   "source": [
    "def read_large_files(file_path):\n",
    "    with open(file_path, mode='r') as file:\n",
    "        for line in file:\n",
    "            yield line\n",
    "\n",
    "file_path = \"large_file.txt\"\n",
    "for line in read_large_files(file_path=file_path):\n",
    "    print(line.strip())"
   ]
  },
  {
   "cell_type": "code",
   "execution_count": null,
   "metadata": {},
   "outputs": [],
   "source": []
  }
 ],
 "metadata": {
  "kernelspec": {
   "display_name": "Python 3",
   "language": "python",
   "name": "python3"
  },
  "language_info": {
   "codemirror_mode": {
    "name": "ipython",
    "version": 3
   },
   "file_extension": ".py",
   "mimetype": "text/x-python",
   "name": "python",
   "nbconvert_exporter": "python",
   "pygments_lexer": "ipython3",
   "version": "3.12.0"
  }
 },
 "nbformat": 4,
 "nbformat_minor": 2
}
